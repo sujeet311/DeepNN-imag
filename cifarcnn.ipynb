{
  "nbformat": 4,
  "nbformat_minor": 0,
  "metadata": {
    "colab": {
      "provenance": [],
      "authorship_tag": "ABX9TyP0zYnqWE2a2xzr7j81bjSW",
      "include_colab_link": true
    },
    "kernelspec": {
      "name": "python3",
      "display_name": "Python 3"
    },
    "language_info": {
      "name": "python"
    }
  },
  "cells": [
    {
      "cell_type": "markdown",
      "metadata": {
        "id": "view-in-github",
        "colab_type": "text"
      },
      "source": [
        "<a href=\"https://colab.research.google.com/github/sujeet311/DeepNN-imag/blob/main/cifarcnn.ipynb\" target=\"_parent\"><img src=\"https://colab.research.google.com/assets/colab-badge.svg\" alt=\"Open In Colab\"/></a>"
      ]
    },
    {
      "cell_type": "code",
      "source": [
        "import torch\n",
        "import torchvision\n",
        "import torchvision.transforms as transforms\n",
        "import torch.nn as nn\n",
        "import torch.nn.functional as F\n",
        "import torch.optim as optim\n"
      ],
      "metadata": {
        "id": "DcEAWws-nKwM"
      },
      "execution_count": 33,
      "outputs": []
    },
    {
      "cell_type": "code",
      "source": [
        "transform = transforms.Compose(\n",
        "    [transforms.ToTensor(),\n",
        "     transforms.Normalize((0.5, 0.5, 0.5), (0.5, 0.5, 0.5))])\n",
        "\n",
        "trainset = torchvision.datasets.CIFAR10(root='./CIFAR1', train=True,\n",
        "                                        download=True, transform=transform)\n",
        "trainloader = torch.utils.data.DataLoader(trainset, batch_size=16,\n",
        "                                          shuffle=True, num_workers=0)\n",
        "\n",
        "testset = torchvision.datasets.CIFAR10(root='./CIFAR1', train=False,\n",
        "                                       download=True, transform=transform)\n",
        "testloader = torch.utils.data.DataLoader(testset, batch_size=16,\n",
        "                                         shuffle=False, num_workers=0)\n",
        "\n",
        "classes = ('plane', 'car', 'bird', 'cat',\n",
        "           'deer', 'dog', 'frog', 'horse', 'ship', 'truck')\n"
      ],
      "metadata": {
        "colab": {
          "base_uri": "https://localhost:8080/"
        },
        "id": "zz1iGn-QnidJ",
        "outputId": "a3071366-33d8-4286-d6f7-22b266151c1b"
      },
      "execution_count": 34,
      "outputs": [
        {
          "output_type": "stream",
          "name": "stdout",
          "text": [
            "Downloading https://www.cs.toronto.edu/~kriz/cifar-10-python.tar.gz to ./CIFAR1/cifar-10-python.tar.gz\n"
          ]
        },
        {
          "output_type": "stream",
          "name": "stderr",
          "text": [
            "100%|██████████| 170498071/170498071 [00:02<00:00, 75304245.30it/s]\n"
          ]
        },
        {
          "output_type": "stream",
          "name": "stdout",
          "text": [
            "Extracting ./CIFAR1/cifar-10-python.tar.gz to ./CIFAR1\n",
            "Files already downloaded and verified\n"
          ]
        }
      ]
    },
    {
      "cell_type": "code",
      "source": [
        "class Net(nn.Module):\n",
        "    def __init__(self):\n",
        "        super(Net, self).__init__()\n",
        "        #First Convolutional Layer\n",
        "        self.conv1 = nn.Conv2d(3, 8, 5)\n",
        "        #MaxPool Layer\n",
        "        self.pool = nn.MaxPool2d(2, 2)\n",
        "        #Second Convolutional Layer\n",
        "        self.conv2 = nn.Conv2d(8, 16, 5)\n",
        "        #Linear Flattening Layer\n",
        "        self.fc1 = nn.Linear(16 * 5 * 5, 120)\n",
        "        #Further Flattening of the layer\n",
        "        self.fc2 = nn.Linear(120, 84)\n",
        "        #Output with 10 classes\n",
        "        self.fc3 = nn.Linear(84, 10)\n",
        "\n",
        "    def forward(self, x):\n",
        "        x = self.pool(F.relu(self.conv1(x)))\n",
        "        x = self.pool(F.relu(self.conv2(x)))\n",
        "        x = x.view(-1, 16 * 5 * 5)\n",
        "        x = F.relu(self.fc1(x))\n",
        "        x = F.relu(self.fc2(x))\n",
        "        x = self.fc3(x)\n",
        "        return x"
      ],
      "metadata": {
        "id": "ebtZKr-Ink7b"
      },
      "execution_count": 35,
      "outputs": []
    },
    {
      "cell_type": "code",
      "source": [
        "net = Net()\n",
        "\n",
        "criterion = nn.CrossEntropyLoss()\n",
        "optimizer = optim.Adamax(net.parameters(), lr=0.01)"
      ],
      "metadata": {
        "id": "K5aSThT7noBi"
      },
      "execution_count": 36,
      "outputs": []
    },
    {
      "cell_type": "code",
      "source": [
        "num_epoch = 5\n",
        "total_step = len(trainloader)\n",
        "for epoch in range(num_epoch):\n",
        "    running_loss = 0.0\n",
        "    for i, data in enumerate(trainloader, 0):\n",
        "        inputs, labels = data\n",
        "        optimizer.zero_grad()\n",
        "        outputs = net(inputs)\n",
        "        loss = criterion(outputs, labels)\n",
        "        loss.backward()\n",
        "        optimizer.step()\n",
        "        running_loss += loss.item()\n",
        "        if i % 2000 == 1999:\n",
        "            print('Epoch [%d/%d], Step [%d/%d], Loss: %.3f' %\n",
        "                  (epoch + 1, num_epoch, i + 1,total_step, running_loss / 2000))\n",
        "            running_loss = 0.0"
      ],
      "metadata": {
        "colab": {
          "base_uri": "https://localhost:8080/"
        },
        "id": "93Og5hZznqFM",
        "outputId": "0b61f353-8adc-45bd-e734-3d18e8fe6265"
      },
      "execution_count": 37,
      "outputs": [
        {
          "output_type": "stream",
          "name": "stdout",
          "text": [
            "Epoch [1/5], Step [2000/3125], Loss: 1.653\n",
            "Epoch [2/5], Step [2000/3125], Loss: 1.326\n",
            "Epoch [3/5], Step [2000/3125], Loss: 1.205\n",
            "Epoch [4/5], Step [2000/3125], Loss: 1.124\n",
            "Epoch [5/5], Step [2000/3125], Loss: 1.068\n"
          ]
        }
      ]
    },
    {
      "cell_type": "code",
      "source": [
        "true = 0\n",
        "total = 0\n",
        "with torch.no_grad():\n",
        "    for data in testloader:\n",
        "        images, labels = data\n",
        "        outputs = net(images)\n",
        "        _, predicted = torch.max(outputs.data, 1)\n",
        "        total += labels.size(0)\n",
        "        true += (predicted == labels).sum().item()\n",
        "\n",
        "print('Accuracy: %d %%' % (100 * true / total))"
      ],
      "metadata": {
        "colab": {
          "base_uri": "https://localhost:8080/"
        },
        "id": "LCGXB8Rrnt2C",
        "outputId": "bdc2d8b3-bf9c-483b-fa85-01de935f49d0"
      },
      "execution_count": 38,
      "outputs": [
        {
          "output_type": "stream",
          "name": "stdout",
          "text": [
            "Accuracy: 59 %\n"
          ]
        }
      ]
    },
    {
      "cell_type": "code",
      "source": [
        "\n",
        "true_class = [0.0] * len(classes)\n",
        "total_classes = [0.0] * len(classes)\n",
        "with torch.no_grad():\n",
        "    for data in testloader:\n",
        "        images, labels = data\n",
        "        outputs = net(images)\n",
        "        _, predicted = torch.max(outputs, 1)\n",
        "        c = (predicted == labels).squeeze()\n",
        "        for i in range(4):\n",
        "            label = labels[i]\n",
        "            true_class[label] += c[i].item()\n",
        "            total_classes[label] += 1\n"
      ],
      "metadata": {
        "id": "GKUmFOnSnxpw"
      },
      "execution_count": 39,
      "outputs": []
    },
    {
      "cell_type": "code",
      "source": [
        "for i in range(10):\n",
        "    print('Accuracy of %5s : %2d %%' % (\n",
        "        classes[i], 100 * true_class[i] / total_classes[i]))"
      ],
      "metadata": {
        "colab": {
          "base_uri": "https://localhost:8080/"
        },
        "id": "qs5raLsLnzdZ",
        "outputId": "2b115b1e-335d-47cf-bd10-605a94d3b9e7"
      },
      "execution_count": 40,
      "outputs": [
        {
          "output_type": "stream",
          "name": "stdout",
          "text": [
            "Accuracy of plane : 56 %\n",
            "Accuracy of   car : 74 %\n",
            "Accuracy of  bird : 57 %\n",
            "Accuracy of   cat : 52 %\n",
            "Accuracy of  deer : 39 %\n",
            "Accuracy of   dog : 27 %\n",
            "Accuracy of  frog : 71 %\n",
            "Accuracy of horse : 57 %\n",
            "Accuracy of  ship : 75 %\n",
            "Accuracy of truck : 68 %\n"
          ]
        }
      ]
    }
  ]
}